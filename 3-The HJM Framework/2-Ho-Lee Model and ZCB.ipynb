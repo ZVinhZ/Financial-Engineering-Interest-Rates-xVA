{
 "cells": [
  {
   "cell_type": "markdown",
   "id": "3437f4ad",
   "metadata": {},
   "source": [
    "# Simulation of Ho-Lee model and Computation of Zero-Coupon Bond (ZCB P(0,T))\n",
    "We specify a certain form of a volatility sigma(t, T) for the instantaneous forward rate f(t, T) and determine the resulting short-rate dynamics.\n",
    "\n",
    "In Ho-Lee model, sigma(t, T) is a constant"
   ]
  },
  {
   "cell_type": "code",
   "execution_count": 1,
   "id": "b668fd4c",
   "metadata": {},
   "outputs": [],
   "source": [
    "import numpy as np\n",
    "import matplotlib.pyplot as plt"
   ]
  },
  {
   "cell_type": "code",
   "execution_count": 2,
   "id": "fdbbbad4",
   "metadata": {},
   "outputs": [],
   "source": [
    "# Instantaneous forward rate\n",
    "def f0T(t, P0T):\n",
    "    dt = 0.01\n",
    "    expr = - (np.log(P0T(t + dt)) - np.log(P0T(t - dt))) / (2*dt)\n",
    "    \n",
    "    return expr"
   ]
  },
  {
   "cell_type": "code",
   "execution_count": 10,
   "id": "9f978834",
   "metadata": {},
   "outputs": [],
   "source": [
    "def GeneratePathsHoLeeEuler(NoOfPaths, NoOfSteps, T, P0T, sigma):\n",
    "    # Initial interest rate is a forward rate at time t -> 0\n",
    "    r0 = f0T(0.01, P0T)\n",
    "    \n",
    "    # theta in Ho-Lee short rate model\n",
    "    theta = lambda t: (f0T(t+dt,P0T) - f0T(t-dt,P0T))/(2*dt) + sigma**2*t\n",
    "    \n",
    "    Z = np.random.normal(0, 1, [NoOfPaths, NoOfSteps])\n",
    "    W = np.zeros([NoOfPaths, NoOfSteps + 1])\n",
    "    R = np.zeros([NoOfPaths, NoOfSteps + 1])\n",
    "    M = np.zeros([NoOfPaths, NoOfSteps + 1])\n",
    "    \n",
    "    # Money saving account\n",
    "    M[:, 0] = 1\n",
    "    # short rate\n",
    "    R[:, 0] = r0\n",
    "    \n",
    "    time = np.zeros([NoOfSteps + 1])\n",
    "    \n",
    "    dt = T / float(NoOfSteps)\n",
    "    \n",
    "    for i in range(0, NoOfSteps):\n",
    "        # Making sure that samples from normal have mean 0 and variance 1\n",
    "        if NoOfPaths > 1:\n",
    "            Z[:, i] = (Z[:, i] - np.mean(Z[:, i])) / np.std(Z[:, i])\n",
    "        \n",
    "        W[:, i+1] = W[:, i] + np.power(dt, 0.5) * Z[:, i]\n",
    "        \n",
    "        R[:, i+1] = R[:, i] + theta(time[i])*dt + sigma*(W[:, i+1] - W[:, i])\n",
    "        \n",
    "        # Discount factor\n",
    "        M[:, i+1] = M[:, i]*np.exp((R[:, i+1] + R[:, i])*0.5*dt)\n",
    "        \n",
    "        time[i+1] = time[i] + dt\n",
    "        \n",
    "    # Outputs\n",
    "    paths = {\"time\": time, \"R\": R, \"M\": M}\n",
    "    \n",
    "    return paths\n",
    "        "
   ]
  },
  {
   "cell_type": "code",
   "execution_count": 15,
   "id": "7d1e1ee9",
   "metadata": {},
   "outputs": [
    {
     "data": {
      "image/png": "[encoded data removed]",
      "text/plain": [
       "<Figure size 432x288 with 1 Axes>"
      ]
     },
     "metadata": {
      "needs_background": "light"
     },
     "output_type": "display_data"
    }
   ],
   "source": [
    "def mainCalculation():\n",
    "    NoOfPaths = 25000\n",
    "    NoOfSteps = 500\n",
    "    \n",
    "    sigma = 0.02\n",
    "    \n",
    "    # We define a ZCB curve (obtained from the market)\n",
    "    P0T = lambda T: np.exp(-0.04*T)\n",
    "    # P0T = lambda T: np.exp(-0.04*T^2 - 0.01)\n",
    "    \n",
    "    # In this experiment we compare ZCB from the market and Monte Carlo\n",
    "    # \"Monte Carlo part\"\n",
    "    T = 40\n",
    "    paths = GeneratePathsHoLeeEuler(NoOfPaths, NoOfSteps, T, P0T, sigma)\n",
    "    M  = paths[\"M\"]\n",
    "    ti = paths[\"time\"]\n",
    "    \n",
    "    # Here we compare the price of an option on a ZCB from MC and Analytical expression\n",
    "    P_t = np.zeros([NoOfSteps + 1])\n",
    "    \n",
    "    for i in range(0, NoOfSteps + 1):\n",
    "        P_t[i] = np.mean(1 / M[:, i])\n",
    "        \n",
    "    plt.figure(1)\n",
    "    plt.grid()\n",
    "    plt.xlabel(\"T\")\n",
    "    plt.ylabel(\"P(0,T)\")\n",
    "    plt.plot(ti, P0T(ti))\n",
    "    plt.plot(ti, P_t, '--r')\n",
    "    plt.legend([\"P(0,t) market\", \"P(0,t) Monte Carlo\"])\n",
    "    plt.title(\"ZCB from Ho-Lee model\")\n",
    "        \n",
    "mainCalculation()"
   ]
  },
  {
   "cell_type": "markdown",
   "id": "0e01fa32",
   "metadata": {},
   "source": [
    "Whatever our choose to change interest rate or sigma, there is always perfect match between yiled as input and yield as output. It is crucial to those model."
   ]
  }
 ],
 "metadata": {
  "kernelspec": {
   "display_name": "Python 3 (ipykernel)",
   "language": "python",
   "name": "python3"
  },
  "language_info": {
   "codemirror_mode": {
    "name": "ipython",
    "version": 3
   },
   "file_extension": ".py",
   "mimetype": "text/x-python",
   "name": "python",
   "nbconvert_exporter": "python",
   "pygments_lexer": "ipython3",
   "version": "3.10.2"
  }
 },
 "nbformat": 4,
 "nbformat_minor": 5
}
